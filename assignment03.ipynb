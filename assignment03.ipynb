{
 "cells": [
  {
   "cell_type": "markdown",
   "metadata": {},
   "source": [
    "# This is assignment03"
   ]
  },
  {
   "cell_type": "markdown",
   "metadata": {},
   "source": [
    "# Name:PENG CIYUAN"
   ]
  },
  {
   "cell_type": "markdown",
   "metadata": {},
   "source": [
    "# Student ID:2018220161"
   ]
  },
  {
   "cell_type": "markdown",
   "metadata": {},
   "source": [
    "# Link: https://github.com/pcyyyy/assignment03.git"
   ]
  },
  {
   "cell_type": "markdown",
   "metadata": {},
   "source": [
    "# import packages for plotting graphs and manipulating data: "
   ]
  },
  {
   "cell_type": "code",
   "execution_count": 13,
   "metadata": {},
   "outputs": [],
   "source": [
    "from numpy import *\n",
    "from matplotlib import pyplot as plt"
   ]
  },
  {
   "cell_type": "markdown",
   "metadata": {},
   "source": [
    "# define a dataset"
   ]
  },
  {
   "cell_type": "code",
   "execution_count": 2,
   "metadata": {},
   "outputs": [],
   "source": [
    "def loadDataSet(testSet):\n",
    "     dataMat = []\n",
    "     fr = open(testSet)\n",
    "     for line in fr.readlines():\n",
    "         curLine = line.strip().split('\\t')\n",
    "         fltLine = []\n",
    "         for i in curLine:\n",
    "             fltLine.append(float(i))\n",
    "         dataMat.append(fltLine)\n",
    "     return dataMat"
   ]
  },
  {
   "cell_type": "markdown",
   "metadata": {},
   "source": [
    "# Calculate the distance between two vectors"
   ]
  },
  {
   "cell_type": "code",
   "execution_count": 3,
   "metadata": {},
   "outputs": [],
   "source": [
    "def distEclud(vecA, vecB):\n",
    "     return sqrt(sum(power(vecA - vecB, 2))) "
   ]
  },
  {
   "cell_type": "markdown",
   "metadata": {},
   "source": [
    "#  Pick K points at random"
   ]
  },
  {
   "cell_type": "code",
   "execution_count": 4,
   "metadata": {},
   "outputs": [],
   "source": [
    "def randCent(dataSet, k):\n",
    "     n = shape(dataSet)[1]\n",
    "     centroids = mat(zeros((k,n)))\n",
    "     for j in range(n):\n",
    "         minJ = min(dataSet[:,j])\n",
    "         rangeJ = float(max(array(dataSet)[:,j]) - minJ)\n",
    "         centroids[:,j] = minJ + rangeJ * random.rand(k,1)\n",
    "     return centroids   "
   ]
  },
  {
   "cell_type": "markdown",
   "metadata": {},
   "source": [
    "# define  k-means algorithm"
   ]
  },
  {
   "cell_type": "code",
   "execution_count": 5,
   "metadata": {},
   "outputs": [],
   "source": [
    "def kMeans(dataSet, k, distMeas=distEclud, createCent=randCent):\n",
    "     m = shape(dataSet)[0]\n",
    "     clusterAssment = mat(zeros((m,2)))                   \n",
    "     centroids = createCent(dataSet, k)\n",
    "     clusterChanged = True\n",
    "     while clusterChanged:\n",
    "         clusterChanged = False\n",
    "         for i in range(m):\n",
    "             minDist = inf\n",
    "             minIndex = -1\n",
    "             for j in range(k):\n",
    "                 distJI = distMeas(centroids[j,:],dataSet[i,:])\n",
    "                 if distJI < minDist:\n",
    "                     minDist = distJI; minIndex = j\n",
    "             if clusterAssment[i,0] != minIndex: \n",
    "                 clusterChanged = True\n",
    "             clusterAssment[i,:] = minIndex,minDist**2\n",
    "         print (centroids)\n",
    "         for cent in range(k):\n",
    "             ptsInClust = dataSet[nonzero(clusterAssment[:,0].A==cent)[0]]\n",
    "             centroids[cent,:] = mean(ptsInClust, axis=0)  \n",
    "     return centroids, clusterAssment"
   ]
  },
  {
   "cell_type": "markdown",
   "metadata": {},
   "source": [
    "# plot the graphs"
   ]
  },
  {
   "cell_type": "code",
   "execution_count": 9,
   "metadata": {},
   "outputs": [],
   "source": [
    "def show(dataSet, k, centroids, clusterAssment):\n",
    "    numSamples, dim = dataSet.shape  \n",
    "    mark = ['or', 'ob', 'og', 'ok', '^r', '+r', 'sr', 'dr', '<r', 'pr']  \n",
    "    for i in range(numSamples):  \n",
    "        markIndex = int(clusterAssment[i, 0])  \n",
    "        plt.plot(dataSet[i, 0], dataSet[i, 1], mark[markIndex])  \n",
    "    mark = ['Dr', 'Db', 'Dg', 'Dk', '^b', '+b', 'sb', 'db', '<b', 'pb']  \n",
    "    for i in range(k):  \n",
    "        plt.plot(centroids[i, 0], centroids[i, 1], mark[i], markersize = 12)  \n",
    "    plt.show()"
   ]
  },
  {
   "cell_type": "markdown",
   "metadata": {},
   "source": [
    "# Run the k-means algorithm"
   ]
  },
  {
   "cell_type": "code",
   "execution_count": 14,
   "metadata": {},
   "outputs": [
    {
     "name": "stdout",
     "output_type": "stream",
     "text": [
      "[[ 3.30482143  1.81871899]\n",
      " [ 3.15922875  1.2650837 ]\n",
      " [-2.14346818  2.40011681]\n",
      " [-0.55667391  2.29735354]]\n",
      "[[ 2.74703076  3.30032465]\n",
      " [ 2.76896036 -2.23560073]\n",
      " [-3.10532438 -0.12876332]\n",
      " [-0.2521765   1.1222785 ]]\n",
      "[[ 2.73184457  3.01548295]\n",
      " [ 2.63810053 -2.99805137]\n",
      " [-3.49409433 -1.28852678]\n",
      " [-1.64931969  2.69809469]]\n",
      "[[ 2.73184457  3.01548295]\n",
      " [ 2.54140545 -2.87212285]\n",
      " [-3.53973889 -2.89384326]\n",
      " [-2.46154315  2.78737555]]\n",
      "[[ 2.73184457  3.01548295]\n",
      " [ 2.54140545 -2.87212285]\n",
      " [-3.53973889 -2.89384326]\n",
      " [-2.46154315  2.78737555]]\n"
     ]
    },
    {
     "data": {
      "image/png": "[encoded data removed]",
      "text/plain": [
       "<Figure size 432x288 with 1 Axes>"
      ]
     },
     "metadata": {},
     "output_type": "display_data"
    }
   ],
   "source": [
    "def main():\n",
    "    dataMat = mat(loadDataSet('testSet.txt'))\n",
    "    myCentroids, clustAssing= kMeans(dataMat,4)\n",
    "    print(myCentroids)\n",
    "    show(dataMat, 4, myCentroids, clustAssing)\n",
    "if __name__ == '__main__':\n",
    "     main()"
   ]
  },
  {
   "cell_type": "code",
   "execution_count": null,
   "metadata": {},
   "outputs": [],
   "source": []
  },
  {
   "cell_type": "code",
   "execution_count": null,
   "metadata": {},
   "outputs": [],
   "source": []
  }
 ],
 "metadata": {
  "kernelspec": {
   "display_name": "Python 3",
   "language": "python",
   "name": "python3"
  },
  "language_info": {
   "codemirror_mode": {
    "name": "ipython",
    "version": 3
   },
   "file_extension": ".py",
   "mimetype": "text/x-python",
   "name": "python",
   "nbconvert_exporter": "python",
   "pygments_lexer": "ipython3",
   "version": "3.6.5"
  }
 },
 "nbformat": 4,
 "nbformat_minor": 2
}
